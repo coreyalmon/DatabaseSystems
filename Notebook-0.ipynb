{
    "metadata": {
        "kernelspec": {
            "name": "SQL",
            "display_name": "SQL",
            "language": "sql"
        },
        "language_info": {
            "name": "sql",
            "version": ""
        }
    },
    "nbformat_minor": 2,
    "nbformat": 4,
    "cells": [
        {
            "cell_type": "code",
            "source": [
                "USE TSQLV4;\r\n",
                "\r\n",
                "SELECT empid, YEAR(orderdate) AS orderyear, COUNT(*) AS numorders\r\n",
                "FROM Sales.Orders\r\n",
                "WHERE custid = 71\r\n",
                "GROUP BY empid, YEAR(orderdate)\r\n",
                "HAVING COUNT(*) > 1\r\n",
                "ORDER BY empid, orderyear;"
            ],
            "metadata": {
                "azdata_cell_guid": "f305d20e-e237-46fb-b4d2-4c2ac6810686",
                "language": "sql"
            },
            "outputs": [
                {
                    "output_type": "display_data",
                    "data": {
                        "text/html": "(9 rows affected)"
                    },
                    "metadata": {}
                },
                {
                    "output_type": "display_data",
                    "data": {
                        "text/html": "Total execution time: 00:00:00.031"
                    },
                    "metadata": {}
                },
                {
                    "output_type": "execute_result",
                    "metadata": {},
                    "execution_count": 2,
                    "data": {
                        "application/vnd.dataresource+json": {
                            "schema": {
                                "fields": [
                                    {
                                        "name": "empid"
                                    },
                                    {
                                        "name": "orderyear"
                                    },
                                    {
                                        "name": "numorders"
                                    }
                                ]
                            },
                            "data": [
                                {
                                    "0": "1",
                                    "1": "2015",
                                    "2": "2"
                                },
                                {
                                    "0": "1",
                                    "1": "2016",
                                    "2": "3"
                                },
                                {
                                    "0": "2",
                                    "1": "2016",
                                    "2": "2"
                                },
                                {
                                    "0": "3",
                                    "1": "2015",
                                    "2": "2"
                                },
                                {
                                    "0": "4",
                                    "1": "2016",
                                    "2": "3"
                                },
                                {
                                    "0": "5",
                                    "1": "2015",
                                    "2": "3"
                                },
                                {
                                    "0": "6",
                                    "1": "2015",
                                    "2": "3"
                                },
                                {
                                    "0": "7",
                                    "1": "2016",
                                    "2": "2"
                                },
                                {
                                    "0": "8",
                                    "1": "2015",
                                    "2": "4"
                                }
                            ]
                        },
                        "text/html": [
                            "<table>",
                            "<tr><th>empid</th><th>orderyear</th><th>numorders</th></tr>",
                            "<tr><td>1</td><td>2015</td><td>2</td></tr>",
                            "<tr><td>1</td><td>2016</td><td>3</td></tr>",
                            "<tr><td>2</td><td>2016</td><td>2</td></tr>",
                            "<tr><td>3</td><td>2015</td><td>2</td></tr>",
                            "<tr><td>4</td><td>2016</td><td>3</td></tr>",
                            "<tr><td>5</td><td>2015</td><td>3</td></tr>",
                            "<tr><td>6</td><td>2015</td><td>3</td></tr>",
                            "<tr><td>7</td><td>2016</td><td>2</td></tr>",
                            "<tr><td>8</td><td>2015</td><td>4</td></tr>",
                            "</table>"
                        ]
                    }
                }
            ],
            "execution_count": 2
        },
        {
            "cell_type": "code",
            "source": [
                ""
            ],
            "metadata": {
                "language": "sql",
                "azdata_cell_guid": "c8429b48-b009-4c58-9c43-29ffdd2b7ff0"
            },
            "outputs": [],
            "execution_count": null
        }
    ]
}