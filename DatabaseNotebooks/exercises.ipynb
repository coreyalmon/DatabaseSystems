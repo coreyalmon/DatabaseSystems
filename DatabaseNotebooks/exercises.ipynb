{
    "metadata": {
        "kernelspec": {
            "name": "SQL",
            "display_name": "SQL",
            "language": "sql"
        },
        "language_info": {
            "name": "sql",
            "version": ""
        }
    },
    "nbformat_minor": 2,
    "nbformat": 4,
    "cells": [
        {
            "cell_type": "markdown",
            "source": [
                "```\n",
                "Return orders placed in June 2015\n",
                "```"
            ],
            "metadata": {
                "azdata_cell_guid": "04044d04-e9ae-4c39-a72f-2c92f3a9b0ec"
            },
            "attachments": {}
        },
        {
            "cell_type": "code",
            "source": [
                "USE Northwinds2022TSQLV7;\r\n",
                "\r\n",
                "SELECT orderid, orderdate, customerid, employeeid\r\n",
                "FROM Sales.[Order] \r\n",
                "WHERE MONTH(orderdate)='06' AND year(orderdate) = '2015';"
            ],
            "metadata": {
                "azdata_cell_guid": "f237129d-c277-432a-acc3-38e090fbde1f",
                "language": "sql",
                "tags": [
                    "hide_input"
                ]
            },
            "outputs": [],
            "execution_count": null
        },
        {
            "cell_type": "markdown",
            "source": [
                "```\n",
                "Return orders placed on the last day of the month\n",
                "```"
            ],
            "metadata": {
                "language": "sql",
                "azdata_cell_guid": "69db6211-8096-4074-81c1-184733e5f78e"
            },
            "attachments": {}
        },
        {
            "cell_type": "code",
            "source": [
                "USE Northwinds2022TSQLV7;\r\n",
                "\r\n",
                "SELECT orderid, orderdate, customerid, employeeid \r\n",
                "FROM Sales.[Order] \r\n",
                "WHERE orderdate = EOMONTH(orderdate);"
            ],
            "metadata": {
                "language": "sql",
                "azdata_cell_guid": "68eca45f-fd96-4011-aea8-2fe7eeced406",
                "tags": [
                    "hide_input"
                ]
            },
            "outputs": [],
            "execution_count": null
        },
        {
            "cell_type": "markdown",
            "source": [
                "```\n",
                "Return employees with last name containing the letter 'e' twice or more\n",
                "```"
            ],
            "metadata": {
                "language": "sql",
                "azdata_cell_guid": "01b66e0e-12d5-4594-9978-7bad767ce834"
            },
            "attachments": {}
        },
        {
            "cell_type": "code",
            "source": [
                "USE Northwinds2022TSQLV7;\r\n",
                "\r\n",
                "SELECT employeeid, employeefirstname, employeelastname\r\n",
                "FROM HumanResources.Employee\r\n",
                "WHERE employeelastname like '%[e]%[e]%';\r\n",
                ""
            ],
            "metadata": {
                "language": "sql",
                "azdata_cell_guid": "7630c17e-73f5-4627-8a87-152ee7fe0a21",
                "tags": [
                    "hide_input"
                ]
            },
            "outputs": [],
            "execution_count": null
        },
        {
            "cell_type": "markdown",
            "source": [
                "```\n",
                "Return orders with total value(qty*unitprice) greater than 10000\n",
                "```"
            ],
            "metadata": {
                "language": "sql",
                "azdata_cell_guid": "88b99693-13db-423b-9817-943f63b13eff"
            },
            "attachments": {}
        },
        {
            "cell_type": "code",
            "source": [
                "USE Northwinds2022TSQLV7;\r\n",
                "\r\n",
                "SELECT orderid, quantity * unitprice AS totalvalue \r\n",
                "FROM Sales.OrderDetail\r\n",
                "WHERE quantity * unitprice > 10000\r\n",
                "ORDER BY quantity * unitprice DESC;"
            ],
            "metadata": {
                "language": "sql",
                "azdata_cell_guid": "d5012105-7e0f-4b78-9645-a153239eb2fd",
                "tags": [
                    "hide_input"
                ]
            },
            "outputs": [],
            "execution_count": null
        },
        {
            "cell_type": "markdown",
            "source": [
                "```\n",
                "Returns employees with a last name that starts with a lower case letter.\n",
                "```"
            ],
            "metadata": {
                "language": "sql",
                "azdata_cell_guid": "2126a2c4-5e6a-46e8-adee-596804001337"
            },
            "attachments": {}
        },
        {
            "cell_type": "code",
            "source": [
                "USE Northwinds2022TSQLV7\r\n",
                "\r\n",
                "SELECT employeeid, employeelastname\r\n",
                "FROM HumanResources.Employee \r\n",
                "WHERE employeelastname like '^[a-z]%';"
            ],
            "metadata": {
                "language": "sql",
                "azdata_cell_guid": "31757c58-fc1f-4a7e-8675-0a4ccbab7ad7",
                "tags": [
                    "hide_input"
                ]
            },
            "outputs": [],
            "execution_count": null
        },
        {
            "cell_type": "markdown",
            "source": [
                "```\n",
                "Explain the difference between the following two queries\n",
                "\n",
                "```\n",
                "```\n",
                "In the first query, I am selecting the number of orders done by an employee prior to May 1st, 2016. The first query filters rows and then groups them by employeeid.\n",
                "```\n",
                "```\n",
                "In the second query, I am selecting the number of orders only done by employees whose latest order date is prior to may 1st, 2016. The second query will group by employeeid and then the HAVING clause operates on the unique groups formed by grouping by employeeid. This takes place during the HAVING phase. \n",
                "```\n",
                "\n",
                "<span class=\"c1\" style=\"color: rgb(64, 128, 128); font-style: italic;\"><br></span>"
            ],
            "metadata": {
                "language": "sql",
                "azdata_cell_guid": "42b4870e-f47f-40c2-85d4-42af4b97b302"
            },
            "attachments": {}
        },
        {
            "cell_type": "code",
            "source": [
                "USE Northwinds2022TSQLV7\r\n",
                "\r\n",
                "SELECT employeeid, COUNT(*) AS numorders\r\n",
                "FROM Sales.[Order]\r\n",
                "WHERE orderdate < '20160501'\r\n",
                "GROUP BY employeeid;\r\n",
                "\r\n",
                "-- Query 2\r\n",
                "SELECT employeeid, COUNT(*) AS numorders\r\n",
                "FROM Sales.[Order]\r\n",
                "GROUP BY employeeid\r\n",
                "HAVING MAX(orderdate) < '20160501';"
            ],
            "metadata": {
                "language": "sql",
                "azdata_cell_guid": "dcde49dc-49e4-41eb-a532-13f542e4798a",
                "tags": [
                    "hide_input"
                ]
            },
            "outputs": [],
            "execution_count": null
        },
        {
            "cell_type": "markdown",
            "source": [
                "```\n",
                "Return the three ship countries with the highest average freight for orders placed in 2015\n",
                "```"
            ],
            "metadata": {
                "language": "sql",
                "azdata_cell_guid": "0158bfe6-5709-4974-bcfe-1d14c4659df7"
            },
            "attachments": {}
        },
        {
            "cell_type": "code",
            "source": [
                "USE Northwinds2022TSQLV7\r\n",
                "\r\n",
                "SELECT TOP 3 shipcountry, AVG(freight) AS avgfreight \r\n",
                "FROM Sales.[Order] \r\n",
                "GROUP BY shipcountry \r\n",
                "ORDER BY AVG(freight) DESC;"
            ],
            "metadata": {
                "language": "sql",
                "azdata_cell_guid": "bf776ae6-7da8-4eb1-9c70-693b0af7683c"
            },
            "outputs": [],
            "execution_count": null
        },
        {
            "cell_type": "markdown",
            "source": [
                "```\n",
                "Calculate row numbers for orders based on order date ordering (using order id as tiebreaker) for each customer separately\n",
                "```"
            ],
            "metadata": {
                "language": "sql",
                "azdata_cell_guid": "e2477f69-4437-4962-965d-304c38b41583"
            },
            "attachments": {}
        },
        {
            "cell_type": "code",
            "source": [
                ""
            ],
            "metadata": {
                "language": "sql",
                "azdata_cell_guid": "a4e3039e-6158-43d7-9e32-28e8ad19efbe"
            },
            "outputs": [],
            "execution_count": null
        },
        {
            "cell_type": "markdown",
            "source": [
                "```\n",
                "Figure out and return for each employee the gender based on the title of courtesy Ms., Mrs. - Female, Mr. - Male, Dr. - Unknown\n",
                "```"
            ],
            "metadata": {
                "language": "sql",
                "azdata_cell_guid": "20882832-78fc-477b-bc47-af60d79e5e21"
            },
            "attachments": {}
        },
        {
            "cell_type": "code",
            "source": [
                ""
            ],
            "metadata": {
                "language": "sql",
                "azdata_cell_guid": "99f70fc8-6b5a-4fc4-aa93-d80b569580c1"
            },
            "outputs": [],
            "execution_count": null
        },
        {
            "cell_type": "markdown",
            "source": [
                "```\n",
                "Return for each customer the customer ID and region, sort the rows in the output by region, having NULLs sort last (after non-NULL values)\n",
                "```"
            ],
            "metadata": {
                "language": "sql",
                "azdata_cell_guid": "af59c6f8-d56b-4422-857f-49ae81c1f2cb"
            },
            "attachments": {}
        },
        {
            "cell_type": "code",
            "source": [
                ""
            ],
            "metadata": {
                "language": "sql",
                "azdata_cell_guid": "3e5f6cbb-1a6b-4b79-8857-8112726ac4f5"
            },
            "outputs": [],
            "execution_count": null
        }
    ]
}