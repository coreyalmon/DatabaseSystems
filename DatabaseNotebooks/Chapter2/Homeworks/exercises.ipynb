{
    "metadata": {
        "kernelspec": {
            "name": "SQL",
            "display_name": "SQL",
            "language": "sql"
        },
        "language_info": {
            "name": "sql",
            "version": ""
        }
    },
    "nbformat_minor": 2,
    "nbformat": 4,
    "cells": [
        {
            "cell_type": "markdown",
            "source": [
                "```\n",
                "Return orders placed in June 2015\n",
                "```"
            ],
            "metadata": {
                "azdata_cell_guid": "04044d04-e9ae-4c39-a72f-2c92f3a9b0ec"
            },
            "attachments": {}
        },
        {
            "cell_type": "code",
            "source": [
                "USE Northwinds2022TSQLV7;\r\n",
                "\r\n",
                "SELECT orderid, orderdate, customerid, employeeid\r\n",
                "FROM Sales.[Order] \r\n",
                "WHERE MONTH(orderdate)='06' AND year(orderdate) = '2015';"
            ],
            "metadata": {
                "azdata_cell_guid": "f237129d-c277-432a-acc3-38e090fbde1f",
                "language": "sql",
                "tags": []
            },
            "outputs": [
                {
                    "output_type": "display_data",
                    "data": {
                        "text/html": "(30 rows affected)"
                    },
                    "metadata": {}
                },
                {
                    "output_type": "display_data",
                    "data": {
                        "text/html": "Total execution time: 00:00:00.014"
                    },
                    "metadata": {}
                },
                {
                    "output_type": "execute_result",
                    "metadata": {},
                    "execution_count": 17,
                    "data": {
                        "application/vnd.dataresource+json": {
                            "schema": {
                                "fields": [
                                    {
                                        "name": "orderid"
                                    },
                                    {
                                        "name": "orderdate"
                                    },
                                    {
                                        "name": "customerid"
                                    },
                                    {
                                        "name": "employeeid"
                                    }
                                ]
                            },
                            "data": [
                                {
                                    "0": "10555",
                                    "1": "2015-06-02",
                                    "2": "71",
                                    "3": "6"
                                },
                                {
                                    "0": "10556",
                                    "1": "2015-06-03",
                                    "2": "73",
                                    "3": "2"
                                },
                                {
                                    "0": "10557",
                                    "1": "2015-06-03",
                                    "2": "44",
                                    "3": "9"
                                },
                                {
                                    "0": "10558",
                                    "1": "2015-06-04",
                                    "2": "4",
                                    "3": "1"
                                },
                                {
                                    "0": "10559",
                                    "1": "2015-06-05",
                                    "2": "7",
                                    "3": "6"
                                },
                                {
                                    "0": "10560",
                                    "1": "2015-06-06",
                                    "2": "25",
                                    "3": "8"
                                },
                                {
                                    "0": "10561",
                                    "1": "2015-06-06",
                                    "2": "24",
                                    "3": "2"
                                },
                                {
                                    "0": "10562",
                                    "1": "2015-06-09",
                                    "2": "66",
                                    "3": "1"
                                },
                                {
                                    "0": "10563",
                                    "1": "2015-06-10",
                                    "2": "67",
                                    "3": "2"
                                },
                                {
                                    "0": "10564",
                                    "1": "2015-06-10",
                                    "2": "65",
                                    "3": "4"
                                },
                                {
                                    "0": "10565",
                                    "1": "2015-06-11",
                                    "2": "51",
                                    "3": "8"
                                },
                                {
                                    "0": "10566",
                                    "1": "2015-06-12",
                                    "2": "7",
                                    "3": "9"
                                },
                                {
                                    "0": "10567",
                                    "1": "2015-06-12",
                                    "2": "37",
                                    "3": "1"
                                },
                                {
                                    "0": "10568",
                                    "1": "2015-06-13",
                                    "2": "29",
                                    "3": "3"
                                },
                                {
                                    "0": "10569",
                                    "1": "2015-06-16",
                                    "2": "65",
                                    "3": "5"
                                },
                                {
                                    "0": "10570",
                                    "1": "2015-06-17",
                                    "2": "51",
                                    "3": "3"
                                },
                                {
                                    "0": "10571",
                                    "1": "2015-06-17",
                                    "2": "20",
                                    "3": "8"
                                },
                                {
                                    "0": "10572",
                                    "1": "2015-06-18",
                                    "2": "5",
                                    "3": "3"
                                },
                                {
                                    "0": "10573",
                                    "1": "2015-06-19",
                                    "2": "3",
                                    "3": "7"
                                },
                                {
                                    "0": "10574",
                                    "1": "2015-06-19",
                                    "2": "82",
                                    "3": "4"
                                },
                                {
                                    "0": "10575",
                                    "1": "2015-06-20",
                                    "2": "52",
                                    "3": "5"
                                },
                                {
                                    "0": "10576",
                                    "1": "2015-06-23",
                                    "2": "80",
                                    "3": "3"
                                },
                                {
                                    "0": "10577",
                                    "1": "2015-06-23",
                                    "2": "82",
                                    "3": "9"
                                },
                                {
                                    "0": "10578",
                                    "1": "2015-06-24",
                                    "2": "11",
                                    "3": "4"
                                },
                                {
                                    "0": "10579",
                                    "1": "2015-06-25",
                                    "2": "45",
                                    "3": "1"
                                },
                                {
                                    "0": "10580",
                                    "1": "2015-06-26",
                                    "2": "56",
                                    "3": "4"
                                },
                                {
                                    "0": "10581",
                                    "1": "2015-06-26",
                                    "2": "21",
                                    "3": "3"
                                },
                                {
                                    "0": "10582",
                                    "1": "2015-06-27",
                                    "2": "6",
                                    "3": "3"
                                },
                                {
                                    "0": "10583",
                                    "1": "2015-06-30",
                                    "2": "87",
                                    "3": "2"
                                },
                                {
                                    "0": "10584",
                                    "1": "2015-06-30",
                                    "2": "7",
                                    "3": "4"
                                }
                            ]
                        },
                        "text/html": [
                            "<table>",
                            "<tr><th>orderid</th><th>orderdate</th><th>customerid</th><th>employeeid</th></tr>",
                            "<tr><td>10555</td><td>2015-06-02</td><td>71</td><td>6</td></tr>",
                            "<tr><td>10556</td><td>2015-06-03</td><td>73</td><td>2</td></tr>",
                            "<tr><td>10557</td><td>2015-06-03</td><td>44</td><td>9</td></tr>",
                            "<tr><td>10558</td><td>2015-06-04</td><td>4</td><td>1</td></tr>",
                            "<tr><td>10559</td><td>2015-06-05</td><td>7</td><td>6</td></tr>",
                            "<tr><td>10560</td><td>2015-06-06</td><td>25</td><td>8</td></tr>",
                            "<tr><td>10561</td><td>2015-06-06</td><td>24</td><td>2</td></tr>",
                            "<tr><td>10562</td><td>2015-06-09</td><td>66</td><td>1</td></tr>",
                            "<tr><td>10563</td><td>2015-06-10</td><td>67</td><td>2</td></tr>",
                            "<tr><td>10564</td><td>2015-06-10</td><td>65</td><td>4</td></tr>",
                            "<tr><td>10565</td><td>2015-06-11</td><td>51</td><td>8</td></tr>",
                            "<tr><td>10566</td><td>2015-06-12</td><td>7</td><td>9</td></tr>",
                            "<tr><td>10567</td><td>2015-06-12</td><td>37</td><td>1</td></tr>",
                            "<tr><td>10568</td><td>2015-06-13</td><td>29</td><td>3</td></tr>",
                            "<tr><td>10569</td><td>2015-06-16</td><td>65</td><td>5</td></tr>",
                            "<tr><td>10570</td><td>2015-06-17</td><td>51</td><td>3</td></tr>",
                            "<tr><td>10571</td><td>2015-06-17</td><td>20</td><td>8</td></tr>",
                            "<tr><td>10572</td><td>2015-06-18</td><td>5</td><td>3</td></tr>",
                            "<tr><td>10573</td><td>2015-06-19</td><td>3</td><td>7</td></tr>",
                            "<tr><td>10574</td><td>2015-06-19</td><td>82</td><td>4</td></tr>",
                            "<tr><td>10575</td><td>2015-06-20</td><td>52</td><td>5</td></tr>",
                            "<tr><td>10576</td><td>2015-06-23</td><td>80</td><td>3</td></tr>",
                            "<tr><td>10577</td><td>2015-06-23</td><td>82</td><td>9</td></tr>",
                            "<tr><td>10578</td><td>2015-06-24</td><td>11</td><td>4</td></tr>",
                            "<tr><td>10579</td><td>2015-06-25</td><td>45</td><td>1</td></tr>",
                            "<tr><td>10580</td><td>2015-06-26</td><td>56</td><td>4</td></tr>",
                            "<tr><td>10581</td><td>2015-06-26</td><td>21</td><td>3</td></tr>",
                            "<tr><td>10582</td><td>2015-06-27</td><td>6</td><td>3</td></tr>",
                            "<tr><td>10583</td><td>2015-06-30</td><td>87</td><td>2</td></tr>",
                            "<tr><td>10584</td><td>2015-06-30</td><td>7</td><td>4</td></tr>",
                            "</table>"
                        ]
                    }
                }
            ],
            "execution_count": 17
        },
        {
            "cell_type": "markdown",
            "source": [
                "```\n",
                "Return orders placed on the last day of the month\n",
                "```"
            ],
            "metadata": {
                "language": "sql",
                "azdata_cell_guid": "69db6211-8096-4074-81c1-184733e5f78e"
            },
            "attachments": {}
        },
        {
            "cell_type": "code",
            "source": [
                "USE Northwinds2022TSQLV7;\r\n",
                "\r\n",
                "SELECT orderid, orderdate, customerid, employeeid \r\n",
                "FROM Sales.[Order] \r\n",
                "WHERE orderdate = EOMONTH(orderdate);"
            ],
            "metadata": {
                "language": "sql",
                "azdata_cell_guid": "68eca45f-fd96-4011-aea8-2fe7eeced406",
                "tags": []
            },
            "outputs": [
                {
                    "output_type": "display_data",
                    "data": {
                        "text/html": "(26 rows affected)"
                    },
                    "metadata": {}
                },
                {
                    "output_type": "display_data",
                    "data": {
                        "text/html": "Total execution time: 00:00:00.137"
                    },
                    "metadata": {}
                },
                {
                    "output_type": "execute_result",
                    "metadata": {},
                    "execution_count": 18,
                    "data": {
                        "application/vnd.dataresource+json": {
                            "schema": {
                                "fields": [
                                    {
                                        "name": "orderid"
                                    },
                                    {
                                        "name": "orderdate"
                                    },
                                    {
                                        "name": "customerid"
                                    },
                                    {
                                        "name": "employeeid"
                                    }
                                ]
                            },
                            "data": [
                                {
                                    "0": "10269",
                                    "1": "2014-07-31",
                                    "2": "89",
                                    "3": "5"
                                },
                                {
                                    "0": "10317",
                                    "1": "2014-09-30",
                                    "2": "48",
                                    "3": "6"
                                },
                                {
                                    "0": "10343",
                                    "1": "2014-10-31",
                                    "2": "44",
                                    "3": "4"
                                },
                                {
                                    "0": "10399",
                                    "1": "2014-12-31",
                                    "2": "83",
                                    "3": "8"
                                },
                                {
                                    "0": "10432",
                                    "1": "2015-01-31",
                                    "2": "75",
                                    "3": "3"
                                },
                                {
                                    "0": "10460",
                                    "1": "2015-02-28",
                                    "2": "24",
                                    "3": "8"
                                },
                                {
                                    "0": "10461",
                                    "1": "2015-02-28",
                                    "2": "46",
                                    "3": "1"
                                },
                                {
                                    "0": "10490",
                                    "1": "2015-03-31",
                                    "2": "35",
                                    "3": "7"
                                },
                                {
                                    "0": "10491",
                                    "1": "2015-03-31",
                                    "2": "28",
                                    "3": "8"
                                },
                                {
                                    "0": "10522",
                                    "1": "2015-04-30",
                                    "2": "44",
                                    "3": "4"
                                },
                                {
                                    "0": "10583",
                                    "1": "2015-06-30",
                                    "2": "87",
                                    "3": "2"
                                },
                                {
                                    "0": "10584",
                                    "1": "2015-06-30",
                                    "2": "7",
                                    "3": "4"
                                },
                                {
                                    "0": "10616",
                                    "1": "2015-07-31",
                                    "2": "32",
                                    "3": "1"
                                },
                                {
                                    "0": "10617",
                                    "1": "2015-07-31",
                                    "2": "32",
                                    "3": "4"
                                },
                                {
                                    "0": "10686",
                                    "1": "2015-09-30",
                                    "2": "59",
                                    "3": "2"
                                },
                                {
                                    "0": "10687",
                                    "1": "2015-09-30",
                                    "2": "37",
                                    "3": "9"
                                },
                                {
                                    "0": "10725",
                                    "1": "2015-10-31",
                                    "2": "21",
                                    "3": "4"
                                },
                                {
                                    "0": "10806",
                                    "1": "2015-12-31",
                                    "2": "84",
                                    "3": "3"
                                },
                                {
                                    "0": "10807",
                                    "1": "2015-12-31",
                                    "2": "27",
                                    "3": "4"
                                },
                                {
                                    "0": "10987",
                                    "1": "2016-03-31",
                                    "2": "19",
                                    "3": "8"
                                },
                                {
                                    "0": "10988",
                                    "1": "2016-03-31",
                                    "2": "65",
                                    "3": "3"
                                },
                                {
                                    "0": "10989",
                                    "1": "2016-03-31",
                                    "2": "61",
                                    "3": "2"
                                },
                                {
                                    "0": "11060",
                                    "1": "2016-04-30",
                                    "2": "27",
                                    "3": "2"
                                },
                                {
                                    "0": "11061",
                                    "1": "2016-04-30",
                                    "2": "32",
                                    "3": "4"
                                },
                                {
                                    "0": "11062",
                                    "1": "2016-04-30",
                                    "2": "66",
                                    "3": "4"
                                },
                                {
                                    "0": "11063",
                                    "1": "2016-04-30",
                                    "2": "37",
                                    "3": "3"
                                }
                            ]
                        },
                        "text/html": [
                            "<table>",
                            "<tr><th>orderid</th><th>orderdate</th><th>customerid</th><th>employeeid</th></tr>",
                            "<tr><td>10269</td><td>2014-07-31</td><td>89</td><td>5</td></tr>",
                            "<tr><td>10317</td><td>2014-09-30</td><td>48</td><td>6</td></tr>",
                            "<tr><td>10343</td><td>2014-10-31</td><td>44</td><td>4</td></tr>",
                            "<tr><td>10399</td><td>2014-12-31</td><td>83</td><td>8</td></tr>",
                            "<tr><td>10432</td><td>2015-01-31</td><td>75</td><td>3</td></tr>",
                            "<tr><td>10460</td><td>2015-02-28</td><td>24</td><td>8</td></tr>",
                            "<tr><td>10461</td><td>2015-02-28</td><td>46</td><td>1</td></tr>",
                            "<tr><td>10490</td><td>2015-03-31</td><td>35</td><td>7</td></tr>",
                            "<tr><td>10491</td><td>2015-03-31</td><td>28</td><td>8</td></tr>",
                            "<tr><td>10522</td><td>2015-04-30</td><td>44</td><td>4</td></tr>",
                            "<tr><td>10583</td><td>2015-06-30</td><td>87</td><td>2</td></tr>",
                            "<tr><td>10584</td><td>2015-06-30</td><td>7</td><td>4</td></tr>",
                            "<tr><td>10616</td><td>2015-07-31</td><td>32</td><td>1</td></tr>",
                            "<tr><td>10617</td><td>2015-07-31</td><td>32</td><td>4</td></tr>",
                            "<tr><td>10686</td><td>2015-09-30</td><td>59</td><td>2</td></tr>",
                            "<tr><td>10687</td><td>2015-09-30</td><td>37</td><td>9</td></tr>",
                            "<tr><td>10725</td><td>2015-10-31</td><td>21</td><td>4</td></tr>",
                            "<tr><td>10806</td><td>2015-12-31</td><td>84</td><td>3</td></tr>",
                            "<tr><td>10807</td><td>2015-12-31</td><td>27</td><td>4</td></tr>",
                            "<tr><td>10987</td><td>2016-03-31</td><td>19</td><td>8</td></tr>",
                            "<tr><td>10988</td><td>2016-03-31</td><td>65</td><td>3</td></tr>",
                            "<tr><td>10989</td><td>2016-03-31</td><td>61</td><td>2</td></tr>",
                            "<tr><td>11060</td><td>2016-04-30</td><td>27</td><td>2</td></tr>",
                            "<tr><td>11061</td><td>2016-04-30</td><td>32</td><td>4</td></tr>",
                            "<tr><td>11062</td><td>2016-04-30</td><td>66</td><td>4</td></tr>",
                            "<tr><td>11063</td><td>2016-04-30</td><td>37</td><td>3</td></tr>",
                            "</table>"
                        ]
                    }
                }
            ],
            "execution_count": 18
        },
        {
            "cell_type": "markdown",
            "source": [
                "```\n",
                "Return employees with last name containing the letter 'e' twice or more\n",
                "```"
            ],
            "metadata": {
                "language": "sql",
                "azdata_cell_guid": "01b66e0e-12d5-4594-9978-7bad767ce834"
            },
            "attachments": {}
        },
        {
            "cell_type": "code",
            "source": [
                "USE Northwinds2022TSQLV7;\r\n",
                "\r\n",
                "SELECT employeeid, employeefirstname, employeelastname\r\n",
                "FROM HumanResources.Employee\r\n",
                "WHERE employeelastname like '%[e]%[e]%';\r\n",
                ""
            ],
            "metadata": {
                "language": "sql",
                "azdata_cell_guid": "7630c17e-73f5-4627-8a87-152ee7fe0a21",
                "tags": []
            },
            "outputs": [
{
    "output_type": "display_data",
    "data": {
        "text/html": "(2 rows affected)"
    },
    "metadata": {}
}, {
    "output_type": "display_data",
    "data": {
        "text/html": "Total execution time: 00:00:00.016"
    },
    "metadata": {}
}, {
    "output_type": "execute_result",
    "metadata": {},
    "execution_count": 19,
    "data": {
        "application/vnd.dataresource+json": {
            "schema": {
                "fields": [
                    {
                        "name": "employeeid"
                    },
                    {
                        "name": "employeefirstname"
                    },
                    {
                        "name": "employeelastname"
                    }
                ]
            },
            "data": [
                {
                    "0": "4",
                    "1": "Yael",
                    "2": "Peled"
                },
                {
                    "0": "5",
                    "1": "Sven",
                    "2": "Mortensen"
                }
            ]
        },
        "text/html": [
            "<table>",
            "<tr><th>employeeid</th><th>employeefirstname</th><th>employeelastname</th></tr>",
            "<tr><td>4</td><td>Yael</td><td>Peled</td></tr>",
            "<tr><td>5</td><td>Sven</td><td>Mortensen</td></tr>",
            "</table>"
        ]
    }
}
],
            "execution_count": 19
        },
        {
            "cell_type": "markdown",
            "source": [
                "```\n",
                "Return orders with total value(qty*unitprice) greater than 10000\n",
                "```"
            ],
            "metadata": {
                "language": "sql",
                "azdata_cell_guid": "88b99693-13db-423b-9817-943f63b13eff"
            },
            "attachments": {}
        },
        {
            "cell_type": "code",
            "source": [
                "USE Northwinds2022TSQLV7;\r\n",
                "\r\n",
                "SELECT orderid, quantity * unitprice AS totalvalue \r\n",
                "FROM Sales.OrderDetail\r\n",
                "WHERE quantity * unitprice > 10000\r\n",
                "ORDER BY quantity * unitprice DESC;"
            ],
            "metadata": {
                "language": "sql",
                "azdata_cell_guid": "d5012105-7e0f-4b78-9645-a153239eb2fd",
                "tags": [
                    "hide_input"
                ]
            },
            "outputs": [],
            "execution_count": null
        },
        {
            "cell_type": "markdown",
            "source": [
                "```\n",
                "Returns employees with a last name that starts with a lower case letter.\n",
                "```"
            ],
            "metadata": {
                "language": "sql",
                "azdata_cell_guid": "2126a2c4-5e6a-46e8-adee-596804001337"
            },
            "attachments": {}
        },
        {
            "cell_type": "code",
            "source": [
                "USE Northwinds2022TSQLV7\r\n",
                "\r\n",
                "SELECT employeeid, employeelastname\r\n",
                "FROM HumanResources.Employee \r\n",
                "WHERE employeelastname like '^[a-z]%';"
            ],
            "metadata": {
                "language": "sql",
                "azdata_cell_guid": "31757c58-fc1f-4a7e-8675-0a4ccbab7ad7",
                "tags": [
                    "hide_input"
                ]
            },
            "outputs": [],
            "execution_count": null
        },
        {
            "cell_type": "markdown",
            "source": [
                "```\n",
                "Explain the difference between the following two queries\n",
                "\n",
                "```\n",
                "```\n",
                "In the first query, I am selecting the number of orders done by an employee prior to May 1st, 2016. The first query filters rows and then groups them by employeeid.\n",
                "```\n",
                "```\n",
                "In the second query, I am selecting the number of orders only done by employees whose latest order date is prior to may 1st, 2016. The second query will group by employeeid and then the HAVING clause operates on the unique groups formed by grouping by employeeid. This takes place during the HAVING phase. \n",
                "```\n",
                "\n",
                "<span class=\"c1\" style=\"color: rgb(64, 128, 128); font-style: italic;\"><br></span>"
            ],
            "metadata": {
                "language": "sql",
                "azdata_cell_guid": "42b4870e-f47f-40c2-85d4-42af4b97b302"
            },
            "attachments": {}
        },
        {
            "cell_type": "code",
            "source": [
                "USE Northwinds2022TSQLV7\r\n",
                "\r\n",
                "--Query 1\r\n",
                "SELECT employeeid, COUNT(*) AS numorders\r\n",
                "FROM Sales.[Order]\r\n",
                "WHERE orderdate < '20160501'\r\n",
                "GROUP BY employeeid;\r\n",
                "\r\n",
                "-- Query 2\r\n",
                "SELECT employeeid, COUNT(*) AS numorders\r\n",
                "FROM Sales.[Order]\r\n",
                "GROUP BY employeeid\r\n",
                "HAVING MAX(orderdate) < '20160501';"
            ],
            "metadata": {
                "language": "sql",
                "azdata_cell_guid": "dcde49dc-49e4-41eb-a532-13f542e4798a",
                "tags": [
                    "hide_input"
                ]
            },
            "outputs": [],
            "execution_count": null
        },
        {
            "cell_type": "markdown",
            "source": [
                "```\n",
                "Return the three ship countries with the highest average freight for orders placed in 2015\n",
                "```"
            ],
            "metadata": {
                "language": "sql",
                "azdata_cell_guid": "0158bfe6-5709-4974-bcfe-1d14c4659df7"
            },
            "attachments": {}
        },
        {
            "cell_type": "code",
            "source": [
                "USE Northwinds2022TSQLV7\r\n",
                "\r\n",
                "SELECT TOP 3 ShipToCountry, AVG(freight) AS avgfreight \r\n",
                "FROM Sales.[Order] \r\n",
                "WHERE  YEAR(orderdate) = 2015\r\n",
                "GROUP BY ShipToCountry\r\n",
                "ORDER BY AVG(freight) DESC;"
            ],
            "metadata": {
                "language": "sql",
                "azdata_cell_guid": "bf776ae6-7da8-4eb1-9c70-693b0af7683c",
                "tags": [
                    "hide_input"
                ]
            },
            "outputs": [],
            "execution_count": null
        },
        {
            "cell_type": "markdown",
            "source": [
                "```\n",
                "Calculate row numbers for orders based on order date ordering (using order id as tiebreaker) for each customer separately\n",
                "```"
            ],
            "metadata": {
                "language": "sql",
                "azdata_cell_guid": "e2477f69-4437-4962-965d-304c38b41583"
            },
            "attachments": {}
        },
        {
            "cell_type": "code",
            "source": [
                "USE Northwinds2022TSQLV7\r\n",
                "\r\n",
                "SELECT customerid, orderdate, orderid, ROW_NUMBER() OVER(PARTITION BY customerid ORDER BY orderdate, orderid) AS rownum \r\n",
                "FROM Sales.[Order];\r\n",
                ""
            ],
            "metadata": {
                "language": "sql",
                "azdata_cell_guid": "a4e3039e-6158-43d7-9e32-28e8ad19efbe",
                "tags": [
                    "hide_input"
                ]
            },
            "outputs": [],
            "execution_count": null
        },
        {
            "cell_type": "markdown",
            "source": [
                "```\n",
                "Return for each employee the gender based on the title of courtesy Ms., Mrs. - Female, Mr. - Male, Dr. - Unknown\n",
                "\n",
                "```"
            ],
            "metadata": {
                "language": "sql",
                "azdata_cell_guid": "20882832-78fc-477b-bc47-af60d79e5e21"
            },
            "attachments": {}
        },
        {
            "cell_type": "code",
            "source": [
                "USE Northwinds2022TSQLV7\r\n",
                "\r\n",
                "SELECT\r\n",
                "\temployeeid,\r\n",
                "\temployeefirstname,\r\n",
                "\temployeelastname,\r\n",
                "\temployeetitleofcourtesy,\r\n",
                "\tCASE   \r\n",
                "\t\tWHEN employeetitleofcourtesy = 'Ms.' THEN 'Female'\r\n",
                "        WHEN employeetitleofcourtesy = 'Mrs.' THEN 'Female'\r\n",
                "\t\tWHEN employeetitleofcourtesy = 'Mr.' THEN 'Male'\r\n",
                "\t\tELSE 'Unknown'\r\n",
                "\tEND AS gender \r\n",
                "FROM HumanResources.Employee;"
            ],
            "metadata": {
                "language": "sql",
                "azdata_cell_guid": "99f70fc8-6b5a-4fc4-aa93-d80b569580c1",
                "tags": [
                    "hide_input"
                ]
            },
            "outputs": [],
            "execution_count": null
        },
        {
            "cell_type": "markdown",
            "source": [
                "```\n",
                "Return for each customer the customer ID and region, sort the rows in the output by region, having NULLs sort last (after non-NULL values)\n",
                "```"
            ],
            "metadata": {
                "language": "sql",
                "azdata_cell_guid": "af59c6f8-d56b-4422-857f-49ae81c1f2cb"
            },
            "attachments": {}
        },
        {
            "cell_type": "code",
            "source": [
                "USE Northwinds2022TSQLV7\r\n",
                "\r\n",
                "SELECT customerid, customerregion\r\n",
                "FROM Sales.Customer\r\n",
                "ORDER BY\r\n",
                "\tCASE\r\n",
                "\t\tWHEN customerregion IS NULL THEN 1\r\n",
                "\t\tWHEN customerregion IS NOT NULL THEN 0\r\n",
                "\tEND,\r\n",
                "\tcustomerregion"
            ],
            "metadata": {
                "language": "sql",
                "azdata_cell_guid": "3e5f6cbb-1a6b-4b79-8857-8112726ac4f5",
                "tags": [
                    "hide_input"
                ]
            },
            "outputs": [],
            "execution_count": null
        }
    ]
}