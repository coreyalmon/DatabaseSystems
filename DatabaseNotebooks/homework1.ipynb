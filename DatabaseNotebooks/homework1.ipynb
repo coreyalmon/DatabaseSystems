{
    "metadata": {
        "kernelspec": {
            "name": "SQL",
            "display_name": "SQL",
            "language": "sql"
        },
        "language_info": {
            "name": "sql",
            "version": ""
        }
    },
    "nbformat_minor": 2,
    "nbformat": 4,
    "cells": [
        {
            "cell_type": "markdown",
            "source": [
                "If the number of orders is greater than 1, then lists the year, employee id, and number of orders of customer with id = 71"
            ],
            "metadata": {
                "azdata_cell_guid": "dc12b80d-b84a-4a6d-a085-ce0fa4e7c3ae"
            },
            "attachments": {}
        },
        {
            "cell_type": "code",
            "source": [
                "USE Northwinds2022TSQLV7;\r\n",
                "\r\n",
                "SELECT employeeid, YEAR(orderdate) AS orderyear, COUNT(*) AS numorders\r\n",
                "FROM Sales.[Order]\r\n",
                "WHERE customerid = 71\r\n",
                "GROUP BY employeeid, YEAR(orderdate)\r\n",
                "HAVING COUNT(*) > 1\r\n",
                "ORDER BY employeeid, orderyear;"
            ],
            "metadata": {
                "azdata_cell_guid": "2cefe604-f171-4d41-97cb-9ea5e4d21e92",
                "language": "sql",
                "tags": [
                    "hide_input"
                ]
            },
            "outputs": [],
            "execution_count": null
        },
        {
            "cell_type": "markdown",
            "source": [
                "Lists the <span style=\"color: rgb(33, 33, 33); font-family: Consolas, &quot;Courier New&quot;, monospace; font-size: 12px; white-space: pre;\">orderid, customerid, employeeid, orderdate, freight</span> of the sales order."
            ],
            "metadata": {
                "language": "sql",
                "azdata_cell_guid": "546f412c-6156-4440-9dff-aa743d09e0de"
            },
            "attachments": {}
        },
        {
            "cell_type": "code",
            "source": [
                "USE Northwinds2022TSQLV7\r\n",
                "\r\n",
                "SELECT Orderid, Customerid, Employeeid, OrderDate, Freight\r\n",
                "FROM Sales.[Order];"
            ],
            "metadata": {
                "language": "sql",
                "azdata_cell_guid": "d0a02d60-80a2-4b59-b182-7905990d1791",
                "tags": []
            },
            "outputs": [],
            "execution_count": null
        },
        {
            "cell_type": "markdown",
            "source": [
                "Lists the order id, employee id, order date, and freight of customer with id = 71"
            ],
            "metadata": {
                "language": "sql",
                "azdata_cell_guid": "82747df9-60ed-4280-a5d0-b53dc3a8c6ce"
            },
            "attachments": {}
        },
        {
            "cell_type": "code",
            "source": [
                "USE Northwinds2022TSQLV7\r\n",
                "\r\n",
                "SELECT Orderid, employeeid, orderdate, freight\r\n",
                "FROM Sales.[Order]\r\n",
                "WHERE customerid = 71;\r\n",
                ""
            ],
            "metadata": {
                "language": "sql",
                "azdata_cell_guid": "c7c7a643-c451-4f14-bfc1-6e5d425af888",
                "tags": []
            },
            "outputs": [],
            "execution_count": null
        },
        {
            "cell_type": "markdown",
            "source": [
                "If customer with id=71, select the employeeid and year of order"
            ],
            "metadata": {
                "language": "sql",
                "azdata_cell_guid": "475c2577-6351-48f1-b84f-b9989f620196"
            },
            "attachments": {}
        },
        {
            "cell_type": "code",
            "source": [
                "USE Northwinds2022TSQLV7\r\n",
                "\r\n",
                "SELECT employeeid, YEAR(orderdate) AS orderyear\r\n",
                "FROM Sales.[Order]\r\n",
                "WHERE customerid = 71\r\n",
                "GROUP BY employeeid, YEAR(orderdate);"
            ],
            "metadata": {
                "language": "sql",
                "azdata_cell_guid": "53f37bd4-4a97-44da-92fa-bb96525156d6",
                "tags": []
            },
            "outputs": [],
            "execution_count": null
        },
        {
            "cell_type": "markdown",
            "source": [
                "If customer id = 71, select employeeid, order year, total freight and number of orders grouped by employee id and year of order."
            ],
            "metadata": {
                "azdata_cell_guid": "6069b81a-c8f4-4c3c-85a8-e398063a6f39"
            },
            "attachments": {}
        },
        {
            "cell_type": "code",
            "source": [
                "USE Northwinds2022TSQLV7\r\n",
                "\r\n",
                "SELECT\r\n",
                "  employeeid,\r\n",
                "  YEAR(orderdate) AS orderyear,\r\n",
                "  SUM(freight) AS totalfreight,\r\n",
                "  COUNT(*) AS numorders\r\n",
                "FROM Sales.[Order]\r\n",
                "WHERE customerid = 71\r\n",
                "GROUP BY employeeid, YEAR(orderdate);"
            ],
            "metadata": {
                "azdata_cell_guid": "e1e18619-c9b0-43cc-a363-a557dcc100df",
                "language": "sql"
            },
            "outputs": [],
            "execution_count": null
        },
        {
            "cell_type": "markdown",
            "source": [
                ""
            ],
            "metadata": {
                "language": "sql",
                "azdata_cell_guid": "ed9fd6c3-eea0-44d1-a643-2dd0a55742b5"
            },
            "attachments": {}
        },
        {
            "cell_type": "code",
            "source": [
                "SELECT \r\n",
                "  empid, \r\n",
                "  YEAR(orderdate) AS orderyear, \r\n",
                "  COUNT(DISTINCT custid) AS numcusts\r\n",
                "FROM Sales.Orders\r\n",
                "GROUP BY empid, YEAR(orderdate);"
            ],
            "metadata": {
                "azdata_cell_guid": "a12127f6-fae7-431a-9ad3-5f3bb2bccb19",
                "language": "sql"
            },
            "outputs": [],
            "execution_count": null
        }
    ]
}